{
 "cells": [
  {
   "cell_type": "markdown",
   "metadata": {},
   "source": [
    "## Workshop 3"
   ]
  },
  {
   "cell_type": "markdown",
   "metadata": {},
   "source": [
    "### Packages and Modules"
   ]
  },
  {
   "cell_type": "markdown",
   "metadata": {
    "collapsed": true
   },
   "source": [
    "Python functions and object class definitions are bundled together in <b>modules</b>. Modules in turn are often distributed in <b>packages</b>. These packages are made available through private and public repositories. The largest and most widely used repository of python packages is <b>PyPi</b>, the Python Package Index (https://pypi.python.org/pypi).\n",
    "\n",
    "To use a  module from any of these packages the package must first be <b><i>installed</i></b> and then the module must be <b><i>imported</i></b> into the current session.\n",
    "\n",
    "Many of the most commonly used packages are already installed when you installed the Anaconda distribution of Python. These include <b>csv</b>, a packaged used to read in the most commonly used data file format, <b>NumPy</b>, a package that contains functions and class templates for objects useful to data science such as numeric arrays, and <b>Pandas</b>, a package that is used for a Python data structure called <i>Data Frames</i>. Another popular package is <b>MatPlotLib</b>, used to produce charts and other data visualizations."
   ]
  },
  {
   "cell_type": "markdown",
   "metadata": {},
   "source": [
    "#### csv"
   ]
  },
  {
   "cell_type": "code",
   "execution_count": 1,
   "metadata": {
    "collapsed": true,
    "scrolled": true
   },
   "outputs": [],
   "source": [
    "import csv"
   ]
  },
  {
   "cell_type": "code",
   "execution_count": 2,
   "metadata": {},
   "outputs": [
    {
     "name": "stdout",
     "output_type": "stream",
     "text": [
      "<class 'list'>\n",
      "['', 'sepalLength', 'sepalWidth', 'petalLength', 'petalWidth', 'species']\n",
      "['1', '5.1', '3.5', '1.4', '0.2', 'setosa']\n",
      "['2', '4.9', '3', '1.4', '0.2', 'setosa']\n",
      "['3', '4.7', '3.2', '1.3', '0.2', 'setosa']\n",
      "['4', '4.6', '3.1', '1.5', '0.2', 'setosa']\n"
     ]
    }
   ],
   "source": [
    "with open('C:/Users/Tim/Google Drive/SMU/ITOM 6267 Data Mining MSBA/data/iris.csv', newline='') as myFile:  \n",
    "    reader = list(csv.reader(myFile))\n",
    "    print(type(reader))\n",
    "    for row in reader[0:5]:\n",
    "        print(row)\n",
    "\n"
   ]
  },
  {
   "cell_type": "markdown",
   "metadata": {},
   "source": [
    "#### numpy"
   ]
  },
  {
   "cell_type": "markdown",
   "metadata": {},
   "source": [
    "Now that the data has been read into the current Python session, let's do some manipulation."
   ]
  },
  {
   "cell_type": "code",
   "execution_count": 3,
   "metadata": {
    "collapsed": true
   },
   "outputs": [],
   "source": [
    "import numpy as np"
   ]
  },
  {
   "cell_type": "markdown",
   "metadata": {},
   "source": [
    "We have already seen that if we want to apply some operation like addition, multiplication or statistical calculations on multiple elements of a list we must explicitly code the calculation using element by element application in an iterative fashion using a <b><i>while</b></i> or <b><i>for</b></i> loop.\n",
    "\n",
    "This is tedious and prone to coding errors, not to mention very inefficient when it runs. We would rather have a way to apply an operation to all or subsets of elements of an object. That's where the module <b>numpy</b> comes to the rescue.\n",
    "\n",
    "Caveat: <b>numpy</b> creates matrix objects called <b><i>arrays</b></i>. These arrays can be of many dimensions but all elements in the array must be of the same type. So we can have an array of strings, numbers, booleans or other types.\n",
    "\n",
    "Let's say that we want to calculate the mean of each of the columns in the iris columns. First we must extract all rows except the column labels. "
   ]
  },
  {
   "cell_type": "code",
   "execution_count": 4,
   "metadata": {},
   "outputs": [
    {
     "name": "stdout",
     "output_type": "stream",
     "text": [
      "[['1', '5.1', '3.5', '1.4', '0.2', 'setosa'], ['2', '4.9', '3', '1.4', '0.2', 'setosa'], ['3', '4.7', '3.2', '1.3', '0.2', 'setosa'], ['4', '4.6', '3.1', '1.5', '0.2', 'setosa'], ['5', '5', '3.6', '1.4', '0.2', 'setosa']]\n"
     ]
    }
   ],
   "source": [
    "irisList1 = reader[1:]\n",
    "print(irisList1[0:5])"
   ]
  },
  {
   "cell_type": "markdown",
   "metadata": {},
   "source": [
    "Next, we run a loop to iterate over all the rows to extract only the first five numeric elements and build a new list with only those elements."
   ]
  },
  {
   "cell_type": "code",
   "execution_count": 5,
   "metadata": {},
   "outputs": [
    {
     "name": "stdout",
     "output_type": "stream",
     "text": [
      "['5.1', '3.5', '1.4', '0.2']\n",
      "[['5.1', '3.5', '1.4', '0.2']]\n",
      "['4.9', '3', '1.4', '0.2']\n",
      "[['5.1', '3.5', '1.4', '0.2'], ['4.9', '3', '1.4', '0.2']]\n"
     ]
    }
   ],
   "source": [
    "irisList2 = irisList1[0][1:5]\n",
    "print(irisList2)\n",
    "\n",
    "irisList2[0] = list(irisList2) # Insert a new list into irisList2\n",
    "del irisList2[1:4] # Delete the \"straglers\"\n",
    "print(irisList2)\n",
    "\n",
    "foo = irisList1[1][1:5]\n",
    "print(foo)\n",
    "\n",
    "irisList2.append(foo)\n",
    "print (irisList2)"
   ]
  },
  {
   "cell_type": "markdown",
   "metadata": {},
   "source": [
    "Now let's replicate the above by iterating over the whole dataset."
   ]
  },
  {
   "cell_type": "code",
   "execution_count": 6,
   "metadata": {},
   "outputs": [
    {
     "name": "stdout",
     "output_type": "stream",
     "text": [
      "[['5.1', '3.5', '1.4', '0.2'], ['4.9', '3', '1.4', '0.2'], ['4.7', '3.2', '1.3', '0.2']]\n"
     ]
    }
   ],
   "source": [
    "for i in range(2, len(irisList1)) :\n",
    "    foo = irisList1[i][1:5]\n",
    "    irisList2.append(foo)\n",
    "    \n",
    "print(irisList2[0:3])"
   ]
  },
  {
   "cell_type": "markdown",
   "metadata": {},
   "source": [
    "Now we can write another loop that would add up all the values in each column and then divide the sums by the number of rows to yield the means for each column, a very tedious and error prone programming task. Wouldn't it be nice if we could use a single line of code to do the same thing? \n",
    "\n",
    "It's our lucky day. The module <b>numpy</b> is designed to do just that.\n",
    "\n",
    "After we import numpy, we must first convert our list of lists to a two dimensional array of numeric values."
   ]
  },
  {
   "cell_type": "code",
   "execution_count": 7,
   "metadata": {},
   "outputs": [
    {
     "name": "stdout",
     "output_type": "stream",
     "text": [
      "<class 'numpy.ndarray'>\n",
      "(150, 4)\n",
      "[[ 5.1  3.5  1.4  0.2]\n",
      " [ 4.9  3.   1.4  0.2]\n",
      " [ 4.7  3.2  1.3  0.2]]\n"
     ]
    }
   ],
   "source": [
    "np_iris = np.array(irisList2)\n",
    "np_iris1 = np_iris.astype(np.float)\n",
    "print(type(np_iris1))\n",
    "print(np_iris1.shape)\n",
    "print(np_iris1[:3,:]) # Print the first 3 rows and all columns"
   ]
  },
  {
   "cell_type": "markdown",
   "metadata": {},
   "source": [
    "Now that we have an array of numeric decimal (nd) values, let's use some methods associated with these types of objects and see how easy it is to apply operations over many elements of the array in a single method call.\n",
    "\n",
    "Let's start with our original goal of calculating the means of each column. "
   ]
  },
  {
   "cell_type": "code",
   "execution_count": 8,
   "metadata": {},
   "outputs": [
    {
     "name": "stdout",
     "output_type": "stream",
     "text": [
      "[ 5.84333333  3.05733333  3.758       1.19933333]\n"
     ]
    }
   ],
   "source": [
    "meanIris = np.mean(np_iris1, axis=0) # axis = 0 means columns axis and axis = 1 means row axis\n",
    "print(meanIris)"
   ]
  },
  {
   "cell_type": "markdown",
   "metadata": {},
   "source": [
    "The same technique can be used to calculate other statistics such as sum, median, skewness, etc."
   ]
  },
  {
   "cell_type": "markdown",
   "metadata": {},
   "source": [
    "#### pandas"
   ]
  },
  {
   "cell_type": "markdown",
   "metadata": {},
   "source": [
    "Now let's turn our attention to a more intuitive way of managing tabular data using the module <b>pandas</b>"
   ]
  },
  {
   "cell_type": "code",
   "execution_count": 133,
   "metadata": {
    "collapsed": true
   },
   "outputs": [],
   "source": [
    "import pandas as pd"
   ]
  },
  {
   "cell_type": "code",
   "execution_count": 163,
   "metadata": {},
   "outputs": [
    {
     "name": "stdout",
     "output_type": "stream",
     "text": [
      "<class 'pandas.core.frame.DataFrame'>\n"
     ]
    }
   ],
   "source": [
    "iris = pd.read_csv('C:/Users/Tim/Google Drive/SMU/ITOM 6267 Data Mining MSBA/data/iris.csv')\n",
    "print(type(iris))"
   ]
  },
  {
   "cell_type": "code",
   "execution_count": 164,
   "metadata": {},
   "outputs": [
    {
     "name": "stdout",
     "output_type": "stream",
     "text": [
      "   Unnamed: 0  sepalLength  sepalWidth  petalLength  petalWidth species\n",
      "0           1          5.1         3.5          1.4         0.2  setosa\n",
      "1           2          4.9         3.0          1.4         0.2  setosa\n",
      "2           3          4.7         3.2          1.3         0.2  setosa\n",
      "3           4          4.6         3.1          1.5         0.2  setosa\n",
      "4           5          5.0         3.6          1.4         0.2  setosa\n"
     ]
    }
   ],
   "source": [
    "print(iris[0:5])\n"
   ]
  },
  {
   "cell_type": "markdown",
   "metadata": {},
   "source": [
    "Note that the read_csv function read in a separate column \"Unnamed\" populated with the row labels. We can tell python to ignore those lables with the index_col = 0 argument:"
   ]
  },
  {
   "cell_type": "code",
   "execution_count": 225,
   "metadata": {},
   "outputs": [
    {
     "name": "stdout",
     "output_type": "stream",
     "text": [
      "   sepalLength  sepalWidth  petalLength  petalWidth species\n",
      "1          5.1         3.5          1.4         0.2  setosa\n",
      "2          4.9         3.0          1.4         0.2  setosa\n",
      "3          4.7         3.2          1.3         0.2  setosa\n",
      "4          4.6         3.1          1.5         0.2  setosa\n",
      "5          5.0         3.6          1.4         0.2  setosa\n"
     ]
    }
   ],
   "source": [
    "iris = pd.read_csv('C:/Users/Tim/Google Drive/SMU/ITOM 6267 Data Mining MSBA/data/iris.csv', index_col = 0)\n",
    "print(iris[0:5])"
   ]
  },
  {
   "cell_type": "markdown",
   "metadata": {},
   "source": [
    "What type of object is iris?"
   ]
  },
  {
   "cell_type": "code",
   "execution_count": 226,
   "metadata": {},
   "outputs": [
    {
     "data": {
      "text/plain": [
       "pandas.core.frame.DataFrame"
      ]
     },
     "execution_count": 226,
     "metadata": {},
     "output_type": "execute_result"
    }
   ],
   "source": [
    "type(iris)"
   ]
  },
  {
   "cell_type": "markdown",
   "metadata": {},
   "source": [
    "We see that iris is a pandas DataFrame. It is conveniently organized as a rectangular table with row and column headers. This makes it easy to analyze data by slices in both row and column dimensions, aka, \"slice and dice\". Let's start with a calculation on a single column."
   ]
  },
  {
   "cell_type": "code",
   "execution_count": 227,
   "metadata": {},
   "outputs": [
    {
     "data": {
      "text/plain": [
       "5.843333333333335"
      ]
     },
     "execution_count": 227,
     "metadata": {},
     "output_type": "execute_result"
    }
   ],
   "source": [
    "iris.sepalLength.mean() # numeric column"
   ]
  },
  {
   "cell_type": "code",
   "execution_count": 228,
   "metadata": {},
   "outputs": [
    {
     "data": {
      "text/plain": [
       "setosa        50\n",
       "versicolor    50\n",
       "virginica     50\n",
       "Name: species, dtype: int64"
      ]
     },
     "execution_count": 228,
     "metadata": {},
     "output_type": "execute_result"
    }
   ],
   "source": [
    "iris['species'].value_counts(dropna = False) # categorical column"
   ]
  },
  {
   "cell_type": "markdown",
   "metadata": {},
   "source": [
    "Multiple metrics can be calculated with the <i>agg</i> modifier."
   ]
  },
  {
   "cell_type": "code",
   "execution_count": 168,
   "metadata": {},
   "outputs": [
    {
     "data": {
      "text/plain": [
       "count    150.000000\n",
       "mean       5.843333\n",
       "std        0.828066\n",
       "Name: sepalLength, dtype: float64"
      ]
     },
     "execution_count": 168,
     "metadata": {},
     "output_type": "execute_result"
    }
   ],
   "source": [
    "iris.sepalLength.agg(['count', 'mean', 'std'])"
   ]
  },
  {
   "cell_type": "markdown",
   "metadata": {},
   "source": [
    "A <i>groupby</i> modifier can be used to calculate a metric by some categorical column."
   ]
  },
  {
   "cell_type": "code",
   "execution_count": 170,
   "metadata": {},
   "outputs": [
    {
     "data": {
      "text/plain": [
       "species\n",
       "setosa        5.006\n",
       "versicolor    5.936\n",
       "virginica     6.588\n",
       "Name: sepalLength, dtype: float64"
      ]
     },
     "execution_count": 170,
     "metadata": {},
     "output_type": "execute_result"
    }
   ],
   "source": [
    "iris.groupby('species').sepalLength.mean()"
   ]
  },
  {
   "cell_type": "markdown",
   "metadata": {},
   "source": [
    "We can even calculate multiple metrics with the <i>agg</i> modifier grouped by some categorical column."
   ]
  },
  {
   "cell_type": "code",
   "execution_count": 229,
   "metadata": {},
   "outputs": [
    {
     "data": {
      "text/html": [
       "<div>\n",
       "<style>\n",
       "    .dataframe thead tr:only-child th {\n",
       "        text-align: right;\n",
       "    }\n",
       "\n",
       "    .dataframe thead th {\n",
       "        text-align: left;\n",
       "    }\n",
       "\n",
       "    .dataframe tbody tr th {\n",
       "        vertical-align: top;\n",
       "    }\n",
       "</style>\n",
       "<table border=\"1\" class=\"dataframe\">\n",
       "  <thead>\n",
       "    <tr style=\"text-align: right;\">\n",
       "      <th></th>\n",
       "      <th>count</th>\n",
       "      <th>mean</th>\n",
       "      <th>std</th>\n",
       "      <th>skew</th>\n",
       "    </tr>\n",
       "    <tr>\n",
       "      <th>species</th>\n",
       "      <th></th>\n",
       "      <th></th>\n",
       "      <th></th>\n",
       "      <th></th>\n",
       "    </tr>\n",
       "  </thead>\n",
       "  <tbody>\n",
       "    <tr>\n",
       "      <th>setosa</th>\n",
       "      <td>50</td>\n",
       "      <td>5.006</td>\n",
       "      <td>0.352490</td>\n",
       "      <td>0.120087</td>\n",
       "    </tr>\n",
       "    <tr>\n",
       "      <th>versicolor</th>\n",
       "      <td>50</td>\n",
       "      <td>5.936</td>\n",
       "      <td>0.516171</td>\n",
       "      <td>0.105378</td>\n",
       "    </tr>\n",
       "    <tr>\n",
       "      <th>virginica</th>\n",
       "      <td>50</td>\n",
       "      <td>6.588</td>\n",
       "      <td>0.635880</td>\n",
       "      <td>0.118015</td>\n",
       "    </tr>\n",
       "  </tbody>\n",
       "</table>\n",
       "</div>"
      ],
      "text/plain": [
       "            count   mean       std      skew\n",
       "species                                     \n",
       "setosa         50  5.006  0.352490  0.120087\n",
       "versicolor     50  5.936  0.516171  0.105378\n",
       "virginica      50  6.588  0.635880  0.118015"
      ]
     },
     "execution_count": 229,
     "metadata": {},
     "output_type": "execute_result"
    }
   ],
   "source": [
    "iris.groupby('species').sepalLength.agg(['count','mean', 'std', 'skew'])"
   ]
  },
  {
   "cell_type": "markdown",
   "metadata": {},
   "source": [
    "Another very powerful use of groupby is that we don't have to specify any particular column to aggregate. This is particularly useful if we don't have very many numeric columns to calculate on."
   ]
  },
  {
   "cell_type": "code",
   "execution_count": 230,
   "metadata": {},
   "outputs": [
    {
     "data": {
      "text/html": [
       "<div>\n",
       "<style>\n",
       "    .dataframe thead tr:only-child th {\n",
       "        text-align: right;\n",
       "    }\n",
       "\n",
       "    .dataframe thead th {\n",
       "        text-align: left;\n",
       "    }\n",
       "\n",
       "    .dataframe tbody tr th {\n",
       "        vertical-align: top;\n",
       "    }\n",
       "</style>\n",
       "<table border=\"1\" class=\"dataframe\">\n",
       "  <thead>\n",
       "    <tr style=\"text-align: right;\">\n",
       "      <th></th>\n",
       "      <th>sepalLength</th>\n",
       "      <th>sepalWidth</th>\n",
       "      <th>petalLength</th>\n",
       "      <th>petalWidth</th>\n",
       "    </tr>\n",
       "    <tr>\n",
       "      <th>species</th>\n",
       "      <th></th>\n",
       "      <th></th>\n",
       "      <th></th>\n",
       "      <th></th>\n",
       "    </tr>\n",
       "  </thead>\n",
       "  <tbody>\n",
       "    <tr>\n",
       "      <th>setosa</th>\n",
       "      <td>5.006</td>\n",
       "      <td>3.428</td>\n",
       "      <td>1.462</td>\n",
       "      <td>0.246</td>\n",
       "    </tr>\n",
       "    <tr>\n",
       "      <th>versicolor</th>\n",
       "      <td>5.936</td>\n",
       "      <td>2.770</td>\n",
       "      <td>4.260</td>\n",
       "      <td>1.326</td>\n",
       "    </tr>\n",
       "    <tr>\n",
       "      <th>virginica</th>\n",
       "      <td>6.588</td>\n",
       "      <td>2.974</td>\n",
       "      <td>5.552</td>\n",
       "      <td>2.026</td>\n",
       "    </tr>\n",
       "  </tbody>\n",
       "</table>\n",
       "</div>"
      ],
      "text/plain": [
       "            sepalLength  sepalWidth  petalLength  petalWidth\n",
       "species                                                     \n",
       "setosa            5.006       3.428        1.462       0.246\n",
       "versicolor        5.936       2.770        4.260       1.326\n",
       "virginica         6.588       2.974        5.552       2.026"
      ]
     },
     "execution_count": 230,
     "metadata": {},
     "output_type": "execute_result"
    }
   ],
   "source": [
    "iris.groupby('species').mean()"
   ]
  },
  {
   "cell_type": "markdown",
   "metadata": {},
   "source": [
    "Pandas subsets can also be extracted with square brackets but there are two methods that are particularly powerful: loc and iloc. loc uses labels and iloc uses integer indices."
   ]
  },
  {
   "cell_type": "markdown",
   "metadata": {},
   "source": [
    "Let's start with extracting all the rows for the species versicolor."
   ]
  },
  {
   "cell_type": "code",
   "execution_count": 231,
   "metadata": {},
   "outputs": [
    {
     "name": "stdout",
     "output_type": "stream",
     "text": [
      "    sepalLength  sepalWidth  petalLength  petalWidth     species\n",
      "51          7.0         3.2          4.7         1.4  versicolor\n",
      "52          6.4         3.2          4.5         1.5  versicolor\n",
      "53          6.9         3.1          4.9         1.5  versicolor\n",
      "54          5.5         2.3          4.0         1.3  versicolor\n",
      "55          6.5         2.8          4.6         1.5  versicolor\n"
     ]
    }
   ],
   "source": [
    "irisVersicolor = iris.loc[iris.species == 'versicolor', :]\n",
    "print(irisVersicolor.head())"
   ]
  },
  {
   "cell_type": "markdown",
   "metadata": {},
   "source": [
    "Another powerful feature of pandas is that we can specify any column as the index column."
   ]
  },
  {
   "cell_type": "code",
   "execution_count": 232,
   "metadata": {},
   "outputs": [
    {
     "name": "stdout",
     "output_type": "stream",
     "text": [
      "         Unnamed: 0  sepalLength  sepalWidth  petalLength  petalWidth\n",
      "species                                                              \n",
      "setosa            1          5.1         3.5          1.4         0.2\n",
      "setosa            2          4.9         3.0          1.4         0.2\n",
      "setosa            3          4.7         3.2          1.3         0.2\n",
      "setosa            4          4.6         3.1          1.5         0.2\n",
      "setosa            5          5.0         3.6          1.4         0.2\n"
     ]
    }
   ],
   "source": [
    "iris = pd.read_csv('C:/Users/Tim/Google Drive/SMU/ITOM 6267 Data Mining MSBA/data/iris.csv', index_col = 'species')\n",
    "print(iris[0:5])"
   ]
  },
  {
   "cell_type": "markdown",
   "metadata": {},
   "source": [
    "Now we can use loc to select rows using the index_column."
   ]
  },
  {
   "cell_type": "code",
   "execution_count": 233,
   "metadata": {},
   "outputs": [
    {
     "name": "stdout",
     "output_type": "stream",
     "text": [
      "         sepalLength  sepalWidth  petalLength  petalWidth\n",
      "species                                                  \n",
      "setosa           5.1         3.5          1.4         0.2\n",
      "setosa           4.9         3.0          1.4         0.2\n",
      "setosa           4.7         3.2          1.3         0.2\n",
      "setosa           4.6         3.1          1.5         0.2\n",
      "setosa           5.0         3.6          1.4         0.2\n"
     ]
    }
   ],
   "source": [
    "irisSetosa = iris.loc['setosa', 'sepalLength':'petalWidth']\n",
    "print(irisSetosa.head())"
   ]
  },
  {
   "cell_type": "code",
   "execution_count": 234,
   "metadata": {},
   "outputs": [
    {
     "data": {
      "text/plain": [
       "sepalLength    50\n",
       "sepalWidth     50\n",
       "petalLength    50\n",
       "petalWidth     50\n",
       "dtype: int64"
      ]
     },
     "execution_count": 234,
     "metadata": {},
     "output_type": "execute_result"
    }
   ],
   "source": [
    "irisSetosa.count()"
   ]
  },
  {
   "cell_type": "markdown",
   "metadata": {},
   "source": [
    "iloc is used to select using the usual integer index."
   ]
  },
  {
   "cell_type": "code",
   "execution_count": 235,
   "metadata": {},
   "outputs": [
    {
     "name": "stdout",
     "output_type": "stream",
     "text": [
      "         sepalLength  sepalWidth  petalLength  petalWidth\n",
      "species                                                  \n",
      "setosa           5.1         3.5          1.4         0.2\n",
      "setosa           4.9         3.0          1.4         0.2\n",
      "setosa           4.7         3.2          1.3         0.2\n"
     ]
    }
   ],
   "source": [
    "print(irisSetosa.iloc[0:3, 0:5])"
   ]
  },
  {
   "cell_type": "markdown",
   "metadata": {},
   "source": [
    "#### Missing Values"
   ]
  },
  {
   "cell_type": "markdown",
   "metadata": {},
   "source": [
    "Pandas has some great methods that help us detect and treat missing values."
   ]
  },
  {
   "cell_type": "code",
   "execution_count": 236,
   "metadata": {},
   "outputs": [
    {
     "name": "stdout",
     "output_type": "stream",
     "text": [
      "         rowId  sepalLength  sepalWidth  petalLength  petalWidth\n",
      "species                                                         \n",
      "setosa       1          5.1         3.5          1.4         0.2\n",
      "setosa       2          4.9         3.0          1.4         0.2\n",
      "setosa       3          4.7         3.2          1.3         0.2\n",
      "setosa       4          4.6         3.1          1.5         0.2\n",
      "setosa       5          5.0         3.6          1.4         0.2\n",
      "setosa       6          5.4         3.9          1.7         0.4\n",
      "setosa       7          4.6         3.4          1.4         0.3\n",
      "setosa       8          0.0         3.4          NaN         0.2\n",
      "setosa       9          4.4         2.9          1.4         0.2\n",
      "setosa      10          4.9         3.1          1.5         0.1\n"
     ]
    }
   ],
   "source": [
    "iris = pd.read_csv('C:/Users/Tim/Google Drive/SMU/ITOM 6267 Data Mining MSBA/data/iris_missing.csv', index_col = 'species')\n",
    "print(iris.head(10))"
   ]
  },
  {
   "cell_type": "code",
   "execution_count": 237,
   "metadata": {},
   "outputs": [
    {
     "data": {
      "text/html": [
       "<div>\n",
       "<style>\n",
       "    .dataframe thead tr:only-child th {\n",
       "        text-align: right;\n",
       "    }\n",
       "\n",
       "    .dataframe thead th {\n",
       "        text-align: left;\n",
       "    }\n",
       "\n",
       "    .dataframe tbody tr th {\n",
       "        vertical-align: top;\n",
       "    }\n",
       "</style>\n",
       "<table border=\"1\" class=\"dataframe\">\n",
       "  <thead>\n",
       "    <tr style=\"text-align: right;\">\n",
       "      <th></th>\n",
       "      <th>rowId</th>\n",
       "      <th>sepalLength</th>\n",
       "      <th>sepalWidth</th>\n",
       "      <th>petalLength</th>\n",
       "      <th>petalWidth</th>\n",
       "    </tr>\n",
       "    <tr>\n",
       "      <th>species</th>\n",
       "      <th></th>\n",
       "      <th></th>\n",
       "      <th></th>\n",
       "      <th></th>\n",
       "      <th></th>\n",
       "    </tr>\n",
       "  </thead>\n",
       "  <tbody>\n",
       "    <tr>\n",
       "      <th>setosa</th>\n",
       "      <td>False</td>\n",
       "      <td>False</td>\n",
       "      <td>False</td>\n",
       "      <td>False</td>\n",
       "      <td>False</td>\n",
       "    </tr>\n",
       "    <tr>\n",
       "      <th>setosa</th>\n",
       "      <td>False</td>\n",
       "      <td>False</td>\n",
       "      <td>False</td>\n",
       "      <td>False</td>\n",
       "      <td>False</td>\n",
       "    </tr>\n",
       "    <tr>\n",
       "      <th>setosa</th>\n",
       "      <td>False</td>\n",
       "      <td>False</td>\n",
       "      <td>False</td>\n",
       "      <td>False</td>\n",
       "      <td>False</td>\n",
       "    </tr>\n",
       "    <tr>\n",
       "      <th>setosa</th>\n",
       "      <td>False</td>\n",
       "      <td>False</td>\n",
       "      <td>False</td>\n",
       "      <td>False</td>\n",
       "      <td>False</td>\n",
       "    </tr>\n",
       "    <tr>\n",
       "      <th>setosa</th>\n",
       "      <td>False</td>\n",
       "      <td>False</td>\n",
       "      <td>False</td>\n",
       "      <td>False</td>\n",
       "      <td>False</td>\n",
       "    </tr>\n",
       "    <tr>\n",
       "      <th>setosa</th>\n",
       "      <td>False</td>\n",
       "      <td>False</td>\n",
       "      <td>False</td>\n",
       "      <td>False</td>\n",
       "      <td>False</td>\n",
       "    </tr>\n",
       "    <tr>\n",
       "      <th>setosa</th>\n",
       "      <td>False</td>\n",
       "      <td>False</td>\n",
       "      <td>False</td>\n",
       "      <td>False</td>\n",
       "      <td>False</td>\n",
       "    </tr>\n",
       "    <tr>\n",
       "      <th>setosa</th>\n",
       "      <td>False</td>\n",
       "      <td>False</td>\n",
       "      <td>False</td>\n",
       "      <td>True</td>\n",
       "      <td>False</td>\n",
       "    </tr>\n",
       "    <tr>\n",
       "      <th>setosa</th>\n",
       "      <td>False</td>\n",
       "      <td>False</td>\n",
       "      <td>False</td>\n",
       "      <td>False</td>\n",
       "      <td>False</td>\n",
       "    </tr>\n",
       "    <tr>\n",
       "      <th>setosa</th>\n",
       "      <td>False</td>\n",
       "      <td>False</td>\n",
       "      <td>False</td>\n",
       "      <td>False</td>\n",
       "      <td>False</td>\n",
       "    </tr>\n",
       "  </tbody>\n",
       "</table>\n",
       "</div>"
      ],
      "text/plain": [
       "         rowId  sepalLength  sepalWidth  petalLength  petalWidth\n",
       "species                                                         \n",
       "setosa   False        False       False        False       False\n",
       "setosa   False        False       False        False       False\n",
       "setosa   False        False       False        False       False\n",
       "setosa   False        False       False        False       False\n",
       "setosa   False        False       False        False       False\n",
       "setosa   False        False       False        False       False\n",
       "setosa   False        False       False        False       False\n",
       "setosa   False        False       False         True       False\n",
       "setosa   False        False       False        False       False\n",
       "setosa   False        False       False        False       False"
      ]
     },
     "execution_count": 237,
     "metadata": {},
     "output_type": "execute_result"
    }
   ],
   "source": [
    "iris.isnull().head(10)"
   ]
  },
  {
   "cell_type": "code",
   "execution_count": 238,
   "metadata": {},
   "outputs": [
    {
     "data": {
      "text/html": [
       "<div>\n",
       "<style>\n",
       "    .dataframe thead tr:only-child th {\n",
       "        text-align: right;\n",
       "    }\n",
       "\n",
       "    .dataframe thead th {\n",
       "        text-align: left;\n",
       "    }\n",
       "\n",
       "    .dataframe tbody tr th {\n",
       "        vertical-align: top;\n",
       "    }\n",
       "</style>\n",
       "<table border=\"1\" class=\"dataframe\">\n",
       "  <thead>\n",
       "    <tr style=\"text-align: right;\">\n",
       "      <th></th>\n",
       "      <th>rowId</th>\n",
       "      <th>sepalLength</th>\n",
       "      <th>sepalWidth</th>\n",
       "      <th>petalLength</th>\n",
       "      <th>petalWidth</th>\n",
       "    </tr>\n",
       "    <tr>\n",
       "      <th>species</th>\n",
       "      <th></th>\n",
       "      <th></th>\n",
       "      <th></th>\n",
       "      <th></th>\n",
       "      <th></th>\n",
       "    </tr>\n",
       "  </thead>\n",
       "  <tbody>\n",
       "    <tr>\n",
       "      <th>setosa</th>\n",
       "      <td>True</td>\n",
       "      <td>True</td>\n",
       "      <td>True</td>\n",
       "      <td>True</td>\n",
       "      <td>True</td>\n",
       "    </tr>\n",
       "    <tr>\n",
       "      <th>setosa</th>\n",
       "      <td>True</td>\n",
       "      <td>True</td>\n",
       "      <td>True</td>\n",
       "      <td>True</td>\n",
       "      <td>True</td>\n",
       "    </tr>\n",
       "    <tr>\n",
       "      <th>setosa</th>\n",
       "      <td>True</td>\n",
       "      <td>True</td>\n",
       "      <td>True</td>\n",
       "      <td>True</td>\n",
       "      <td>True</td>\n",
       "    </tr>\n",
       "    <tr>\n",
       "      <th>setosa</th>\n",
       "      <td>True</td>\n",
       "      <td>True</td>\n",
       "      <td>True</td>\n",
       "      <td>True</td>\n",
       "      <td>True</td>\n",
       "    </tr>\n",
       "    <tr>\n",
       "      <th>setosa</th>\n",
       "      <td>True</td>\n",
       "      <td>True</td>\n",
       "      <td>True</td>\n",
       "      <td>True</td>\n",
       "      <td>True</td>\n",
       "    </tr>\n",
       "    <tr>\n",
       "      <th>setosa</th>\n",
       "      <td>True</td>\n",
       "      <td>True</td>\n",
       "      <td>True</td>\n",
       "      <td>True</td>\n",
       "      <td>True</td>\n",
       "    </tr>\n",
       "    <tr>\n",
       "      <th>setosa</th>\n",
       "      <td>True</td>\n",
       "      <td>True</td>\n",
       "      <td>True</td>\n",
       "      <td>True</td>\n",
       "      <td>True</td>\n",
       "    </tr>\n",
       "    <tr>\n",
       "      <th>setosa</th>\n",
       "      <td>True</td>\n",
       "      <td>True</td>\n",
       "      <td>True</td>\n",
       "      <td>False</td>\n",
       "      <td>True</td>\n",
       "    </tr>\n",
       "    <tr>\n",
       "      <th>setosa</th>\n",
       "      <td>True</td>\n",
       "      <td>True</td>\n",
       "      <td>True</td>\n",
       "      <td>True</td>\n",
       "      <td>True</td>\n",
       "    </tr>\n",
       "    <tr>\n",
       "      <th>setosa</th>\n",
       "      <td>True</td>\n",
       "      <td>True</td>\n",
       "      <td>True</td>\n",
       "      <td>True</td>\n",
       "      <td>True</td>\n",
       "    </tr>\n",
       "  </tbody>\n",
       "</table>\n",
       "</div>"
      ],
      "text/plain": [
       "         rowId  sepalLength  sepalWidth  petalLength  petalWidth\n",
       "species                                                         \n",
       "setosa    True         True        True         True        True\n",
       "setosa    True         True        True         True        True\n",
       "setosa    True         True        True         True        True\n",
       "setosa    True         True        True         True        True\n",
       "setosa    True         True        True         True        True\n",
       "setosa    True         True        True         True        True\n",
       "setosa    True         True        True         True        True\n",
       "setosa    True         True        True        False        True\n",
       "setosa    True         True        True         True        True\n",
       "setosa    True         True        True         True        True"
      ]
     },
     "execution_count": 238,
     "metadata": {},
     "output_type": "execute_result"
    }
   ],
   "source": [
    "iris.notnull().head(10)"
   ]
  },
  {
   "cell_type": "code",
   "execution_count": 239,
   "metadata": {},
   "outputs": [
    {
     "data": {
      "text/plain": [
       "rowId          150\n",
       "sepalLength    150\n",
       "sepalWidth     146\n",
       "petalLength    146\n",
       "petalWidth     150\n",
       "dtype: int64"
      ]
     },
     "execution_count": 239,
     "metadata": {},
     "output_type": "execute_result"
    }
   ],
   "source": [
    "iris.notnull().sum()"
   ]
  },
  {
   "cell_type": "code",
   "execution_count": 240,
   "metadata": {},
   "outputs": [
    {
     "data": {
      "text/plain": [
       "146"
      ]
     },
     "execution_count": 240,
     "metadata": {},
     "output_type": "execute_result"
    }
   ],
   "source": [
    "iris.petalLength.notnull().sum()"
   ]
  },
  {
   "cell_type": "code",
   "execution_count": 241,
   "metadata": {},
   "outputs": [
    {
     "data": {
      "text/plain": [
       "rowId          0.000000\n",
       "sepalLength    0.000000\n",
       "sepalWidth     0.027397\n",
       "petalLength    0.027397\n",
       "petalWidth     0.000000\n",
       "dtype: float64"
      ]
     },
     "execution_count": 241,
     "metadata": {},
     "output_type": "execute_result"
    }
   ],
   "source": [
    "iris.isnull().sum() / iris.count() # Calculate percent missing"
   ]
  },
  {
   "cell_type": "markdown",
   "metadata": {},
   "source": [
    "Now that we know that there are missing values. Let's impute them with the mean values of the columns."
   ]
  },
  {
   "cell_type": "code",
   "execution_count": 250,
   "metadata": {
    "collapsed": true
   },
   "outputs": [],
   "source": [
    "iris['sepalWidth'].fillna(value = iris.sepalWidth.mean(), inplace = True)\n",
    "iris['petalLength'].fillna(value = iris.petalLength.mean(), inplace = True)"
   ]
  },
  {
   "cell_type": "code",
   "execution_count": 251,
   "metadata": {},
   "outputs": [
    {
     "data": {
      "text/plain": [
       "rowId          150\n",
       "sepalLength    150\n",
       "sepalWidth     150\n",
       "petalLength    150\n",
       "petalWidth     150\n",
       "dtype: int64"
      ]
     },
     "execution_count": 251,
     "metadata": {},
     "output_type": "execute_result"
    }
   ],
   "source": [
    "iris.notnull().sum()\n"
   ]
  },
  {
   "cell_type": "code",
   "execution_count": null,
   "metadata": {
    "collapsed": true
   },
   "outputs": [],
   "source": []
  }
 ],
 "metadata": {
  "kernelspec": {
   "display_name": "Python 3",
   "language": "python",
   "name": "python3"
  },
  "language_info": {
   "codemirror_mode": {
    "name": "ipython",
    "version": 3
   },
   "file_extension": ".py",
   "mimetype": "text/x-python",
   "name": "python",
   "nbconvert_exporter": "python",
   "pygments_lexer": "ipython3",
   "version": "3.6.2"
  }
 },
 "nbformat": 4,
 "nbformat_minor": 2
}
