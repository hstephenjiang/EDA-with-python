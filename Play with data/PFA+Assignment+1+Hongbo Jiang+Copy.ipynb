{
 "cells": [
  {
   "cell_type": "markdown",
   "metadata": {
    "deletable": false,
    "editable": false,
    "nbgrader": {
     "checksum": "801068f5065ed06918251521caa2366c",
     "grade": false,
     "grade_id": "cell-d70dbf6020badc25",
     "locked": true,
     "schema_version": 1,
     "solution": false
    }
   },
   "source": [
    "# Programming for Analytics - Assignment #1"
   ]
  },
  {
   "cell_type": "markdown",
   "metadata": {
    "deletable": false,
    "editable": false,
    "nbgrader": {
     "checksum": "104c6b177aaf6f211bdd54552eb50a94",
     "grade": false,
     "grade_id": "cell-c86e3ecfb31a6618",
     "locked": true,
     "schema_version": 1,
     "solution": false
    }
   },
   "source": [
    "#### 1)Write a python program to compute simple interest.\n",
    "##### Note: Take all the values required to compute the simple interest from the USER. "
   ]
  },
  {
   "cell_type": "code",
   "execution_count": 1,
   "metadata": {
    "deletable": false,
    "nbgrader": {
     "checksum": "955b2100a8444b8fd4927e0b27d252db",
     "grade": true,
     "grade_id": "Sorting",
     "locked": false,
     "points": 1,
     "schema_version": 1,
     "solution": true
    }
   },
   "outputs": [
    {
     "name": "stdout",
     "output_type": "stream",
     "text": [
      "Input the investment amount:10000\n",
      "Input the time(in years):5\n",
      "Input the interest rate(%):2\n",
      "The interest is: 1000.0\n"
     ]
    }
   ],
   "source": [
    "# YOUR CODE HERE\n",
    "i = float(input(\"Input the investment amount:\"))\n",
    "t = int(input(\"Input the time(in years):\"))\n",
    "r = float(input(\"Input the interest rate(%):\"))\n",
    "interest = (i*t*r/100)\n",
    "print(\"The interest is:\", interest)"
   ]
  },
  {
   "cell_type": "markdown",
   "metadata": {},
   "source": [
    "#### 2) Write a python program to initialize an empty dictionary and one Key-Value pair to it. \n",
    "##### Note: Take seperate Key and Value from the USER. Initialize an empty dictionary."
   ]
  },
  {
   "cell_type": "code",
   "execution_count": 3,
   "metadata": {
    "deletable": false,
    "nbgrader": {
     "checksum": "3f753d8643929b437d5ce21de6e4a0d1",
     "grade": true,
     "grade_id": "cell-db24e60b267de5e9",
     "locked": false,
     "points": 1,
     "schema_version": 1,
     "solution": true
    }
   },
   "outputs": [
    {
     "name": "stdout",
     "output_type": "stream",
     "text": [
      "Enter a value:a\n",
      "Enter the key to the value:b\n",
      "{'a': 'b'}\n"
     ]
    }
   ],
   "source": [
    "# YOUR CODE HERE\n",
    "value = input(\"Enter a value:\")\n",
    "key = input(\"Enter the key to the value:\")\n",
    "emptyDict = {\n",
    "    value:key\n",
    "}\n",
    "print(emptyDict)"
   ]
  },
  {
   "cell_type": "markdown",
   "metadata": {},
   "source": [
    "#### 3) Write a Python program to replace 'e' with '3' and 'o' with '0' in a string. "
   ]
  },
  {
   "cell_type": "code",
   "execution_count": 1,
   "metadata": {
    "deletable": false,
    "nbgrader": {
     "checksum": "edfbc9609ed794a2dc2eb2e3bc1511f6",
     "grade": true,
     "grade_id": "cell-d3208b6a2dd572f1",
     "locked": false,
     "points": 1,
     "schema_version": 1,
     "solution": true
    }
   },
   "outputs": [
    {
     "name": "stdout",
     "output_type": "stream",
     "text": [
      "Input a string:ertua30\n",
      "3rtua30\n"
     ]
    }
   ],
   "source": [
    "# YOUR CODE HERE\n",
    "string = str(input(\"Input a string:\"))\n",
    "string = string.replace(\"e\",\"3\")\n",
    "string = string.replace(\"o\", \"0\")\n",
    "print(string)"
   ]
  },
  {
   "cell_type": "markdown",
   "metadata": {},
   "source": [
    "#### 4)  Write a Python program to convert height (in feet and inches) to centimeters.\n",
    "\n",
    "##### Note: Round off the height in cms to the nearest integer."
   ]
  },
  {
   "cell_type": "code",
   "execution_count": 5,
   "metadata": {
    "deletable": false,
    "nbgrader": {
     "checksum": "d2a431676fa48047bf2b76ac5c320dab",
     "grade": true,
     "grade_id": "cell-7a25da8b9d9a2b1f",
     "locked": false,
     "points": 1,
     "schema_version": 1,
     "solution": true
    }
   },
   "outputs": [
    {
     "name": "stdout",
     "output_type": "stream",
     "text": [
      "Enter height in feet:6\n",
      "Enter height in inches:5\n",
      "height in cms is: 197\n"
     ]
    }
   ],
   "source": [
    "# YOUR CODE HERE\n",
    "height_feet = float(input(\"Enter height in feet:\"))\n",
    "height_inches = float(input(\"Enter height in inches:\"))\n",
    "height_cms = int(height_feet\n",
    "                 * 30.84\n",
    "                 + height_inches\n",
    "                 * 2.54)\n",
    "print(\"height in cms is:\", height_cms)              "
   ]
  },
  {
   "cell_type": "markdown",
   "metadata": {},
   "source": [
    "#### 5) Write a python program to replace your last name with your favorite colour. \n",
    "##### Note: Enter your Fullname (First name and last name seperated with a space) into a variable and the color as a User Input into another variable. Use string indexing to replace your last name with your favorite colour."
   ]
  },
  {
   "cell_type": "code",
   "execution_count": 6,
   "metadata": {
    "deletable": false,
    "nbgrader": {
     "checksum": "5fdbb88217e2b8c78f3404a0f9458371",
     "grade": true,
     "grade_id": "cell-15503df450eaa08c",
     "locked": false,
     "points": 1,
     "schema_version": 1,
     "solution": true
    }
   },
   "outputs": [
    {
     "name": "stdout",
     "output_type": "stream",
     "text": [
      "Enter a color:blue\n",
      "Hongbo blue\n"
     ]
    }
   ],
   "source": [
    "# YOUR CODE HERE\n",
    "myname =\"Hongbo Jiang\"\n",
    "color = input(\"Enter a color:\")\n",
    "myname = myname.replace(myname[7:len(myname)], color)\n",
    "print(myname)"
   ]
  },
  {
   "cell_type": "markdown",
   "metadata": {},
   "source": [
    "#### 6) Write a Python program to input Name, School and Major in 3 variables and print them out using a single variable with each piece of information on a new line. \n",
    "##### Note: Enter all the three information into seperate variables. Use String Concatenation and read about new line in Python to write this program. "
   ]
  },
  {
   "cell_type": "code",
   "execution_count": 24,
   "metadata": {
    "deletable": false,
    "nbgrader": {
     "checksum": "9b9ea65d174aec72258884f57f98ba32",
     "grade": true,
     "grade_id": "cell-394fd53808330f45",
     "locked": false,
     "points": 1,
     "schema_version": 1,
     "solution": true
    }
   },
   "outputs": [
    {
     "name": "stdout",
     "output_type": "stream",
     "text": [
      "Enter the name:mark\n",
      "Enter the School:smu\n",
      "Enter the Major:acct\n",
      "mark \n",
      "smu \n",
      "acct\n"
     ]
    }
   ],
   "source": [
    "# YOUR CODE HERE\n",
    "Name = input(\"Enter the name:\")\n",
    "School = input(\"Enter the School:\")\n",
    "Major = input(\"Enter the Major:\")\n",
    "print(\"%s \\n%s \\n%s\" % (Name, School, Major))"
   ]
  },
  {
   "cell_type": "markdown",
   "metadata": {},
   "source": [
    " 7) Write a python program and perfom the following actions using arrays.\n",
    "\n",
    "1. Create an integer array.\n",
    " 2. Append 3 random integers into the array and print the array. \n",
    "3. Insert 3 random integers into the array and print the array. \n",
    "4. Remove any 2 integers and print the array. "
   ]
  },
  {
   "cell_type": "code",
   "execution_count": 26,
   "metadata": {
    "deletable": false,
    "nbgrader": {
     "checksum": "1a14cd595e445988b40eec7a3f505e45",
     "grade": true,
     "grade_id": "cell-b3ca0e94b93b62c9",
     "locked": false,
     "points": 1,
     "schema_version": 1,
     "solution": true
    }
   },
   "outputs": [
    {
     "name": "stdout",
     "output_type": "stream",
     "text": [
      "[1, 1, 2, 3, 5, 8, 13, 21, 4379, 8752, 5987]\n",
      "[1, 1, 2, 3, 5, 4034, 8, 2512, 13, 21, 6054, 4379, 8752, 5987]\n",
      "[1, 1, 2, 3, 5, 4034, 8, 13, 21, 6054, 4379, 8752]\n"
     ]
    }
   ],
   "source": [
    "# YOUR CODE HERE\n",
    "import random\n",
    "\n",
    "#Create an interger array\n",
    "intarray=[1, 1, 2, 3, 5, 8, 13, 21]\n",
    "\n",
    "#Append 3 random intergers into the array\n",
    "for i in range (3):\n",
    "    intarray.append(random.randint(1,10000))\n",
    "print(intarray)\n",
    "\n",
    "#Insert 3 random intergers into random position of the array\n",
    "for j in range (3):\n",
    "    intarray.insert(random.randint(0, len(intarray)), random.randint(1,10000))\n",
    "print(intarray)\n",
    "\n",
    "#Remove any 2 intergers from the array\n",
    "for k in range (2):\n",
    "    del intarray[random.randint(0, len(intarray))]\n",
    "print(intarray)\n"
   ]
  },
  {
   "cell_type": "markdown",
   "metadata": {},
   "source": [
    "#### 8) Write a Program to convert any temperature from Fahrenheit to Celcius. \n",
    "##### Note: Look up how to convert Celsius to Fahrenheit and use the formula to write a program. Use input from user."
   ]
  },
  {
   "cell_type": "code",
   "execution_count": null,
   "metadata": {
    "collapsed": true,
    "deletable": false,
    "nbgrader": {
     "checksum": "cc5dd01a6e2698b4b251842cd1607edc",
     "grade": true,
     "grade_id": "cell-6a9c703c8f8a2f20",
     "locked": false,
     "points": 1,
     "schema_version": 1,
     "solution": true
    }
   },
   "outputs": [],
   "source": [
    "# YOUR CODE HERE\n",
    "Fahrenheit_temperature = float(input(\"Enter temperature in Fahrenheit: \"))\n",
    "Celcius_temperature = int((Fahrenheit_temperature - 32) * (5 / 9))\n",
    "print(\"Temperature in Celcius is: \", Celcius_temperature)"
   ]
  },
  {
   "cell_type": "markdown",
   "metadata": {},
   "source": [
    "#### 9) You want to make a list of the largest or smallest N items in a collection.\n",
    "##### Note: you may use heap queue algorithm (import heapq) if desired. "
   ]
  },
  {
   "cell_type": "code",
   "execution_count": 2,
   "metadata": {
    "deletable": false,
    "nbgrader": {
     "checksum": "6b3c486dbe221d755fccfbcd9b8d4214",
     "grade": true,
     "grade_id": "cell-9f0c96cad935c366",
     "locked": false,
     "points": 1,
     "schema_version": 1,
     "solution": true
    }
   },
   "outputs": [
    {
     "name": "stdout",
     "output_type": "stream",
     "text": [
      "collection: [8251, 6808, 8354, 7693, 6496, 9092, 44, 8164, 2557, 4673]\n",
      "Find largest or smallest N items in collection, please input N:2\n",
      "largest 2 items are:  [9092, 8354]\n",
      "smallest 2 items are:  [44, 2557]\n"
     ]
    }
   ],
   "source": [
    "# YOUR CODE HERE\n",
    "import random\n",
    "import heapq\n",
    "\n",
    "#create a collection with 10 random intergers\n",
    "collection = []\n",
    "for i in range (10):\n",
    "    collection.append(random.randint(1,10000))\n",
    "print(\"collection:\", collection)\n",
    "\n",
    "#find the largest or smallest N items in the collection\n",
    "n = int(input(\"Find largest or smallest N items in collection, please input N:\"))\n",
    "print(\"largest\", n, \"items are: \", heapq.nlargest(n, collection))\n",
    "print(\"smallest\", n, \"items are: \", heapq.nsmallest(n, collection))\n"
   ]
  },
  {
   "cell_type": "markdown",
   "metadata": {},
   "source": [
    "#### 10) Write a Python program to encrypt any 5 letter string into an ASCII Cypher. \n",
    "##### Note: # Use User Input for the 5 letter string. Cipher is a secret or disguised way of writing. Look up Ascii Table and use the ASCII ordinal function for this program.\n"
   ]
  },
  {
   "cell_type": "code",
   "execution_count": 38,
   "metadata": {
    "deletable": false,
    "nbgrader": {
     "checksum": "ecd5259e994d0d3f45f11ac91a451bf8",
     "grade": true,
     "grade_id": "cell-ff8470f197c1e123",
     "locked": false,
     "points": 1,
     "schema_version": 1,
     "solution": true
    }
   },
   "outputs": [
    {
     "name": "stdout",
     "output_type": "stream",
     "text": [
      "Input a 5 letter string: abcde\n"
     ]
    },
    {
     "data": {
      "text/plain": [
       "'979899100101'"
      ]
     },
     "execution_count": 38,
     "metadata": {},
     "output_type": "execute_result"
    }
   ],
   "source": [
    "# YOUR CODE HERE\n",
    "string = input(\"Input a 5 letter string: \")\n",
    "''.join(str(ord(c)) for c in string)\n"
   ]
  },
  {
   "cell_type": "code",
   "execution_count": null,
   "metadata": {
    "collapsed": true
   },
   "outputs": [],
   "source": []
  },
  {
   "cell_type": "code",
   "execution_count": null,
   "metadata": {
    "collapsed": true
   },
   "outputs": [],
   "source": []
  }
 ],
 "metadata": {
  "kernelspec": {
   "display_name": "Python 3",
   "language": "python",
   "name": "python3"
  },
  "language_info": {
   "codemirror_mode": {
    "name": "ipython",
    "version": 3
   },
   "file_extension": ".py",
   "mimetype": "text/x-python",
   "name": "python",
   "nbconvert_exporter": "python",
   "pygments_lexer": "ipython3",
   "version": "3.6.2"
  }
 },
 "nbformat": 4,
 "nbformat_minor": 2
}
