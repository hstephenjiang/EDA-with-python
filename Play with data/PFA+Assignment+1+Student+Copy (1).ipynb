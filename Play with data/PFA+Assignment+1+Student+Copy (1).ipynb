{
 "cells": [
  {
   "cell_type": "markdown",
   "metadata": {
    "deletable": false,
    "editable": false,
    "nbgrader": {
     "checksum": "801068f5065ed06918251521caa2366c",
     "grade": false,
     "grade_id": "cell-d70dbf6020badc25",
     "locked": true,
     "schema_version": 1,
     "solution": false
    }
   },
   "source": [
    "# Programming for Analytics - Assignment #1"
   ]
  },
  {
   "cell_type": "markdown",
   "metadata": {
    "deletable": false,
    "editable": false,
    "nbgrader": {
     "checksum": "104c6b177aaf6f211bdd54552eb50a94",
     "grade": false,
     "grade_id": "cell-c86e3ecfb31a6618",
     "locked": true,
     "schema_version": 1,
     "solution": false
    }
   },
   "source": [
    "#### 1)Write a python program to compute simple interest.\n",
    "##### Note: Take all the values required to compute the simple interest from the USER. "
   ]
  },
  {
   "cell_type": "code",
   "execution_count": null,
   "metadata": {
    "collapsed": true,
    "deletable": false,
    "nbgrader": {
     "checksum": "955b2100a8444b8fd4927e0b27d252db",
     "grade": true,
     "grade_id": "Sorting",
     "locked": false,
     "points": 1,
     "schema_version": 1,
     "solution": true
    }
   },
   "outputs": [],
   "source": [
    "# YOUR CODE HERE\n",
    "raise NotImplementedError()"
   ]
  },
  {
   "cell_type": "markdown",
   "metadata": {},
   "source": [
    "#### 2) Write a python program to initialize an empty dictionary and one Key-Value pair to it. \n",
    "##### Note: Take seperate Key and Value from the USER. Initialize an empty dictionary."
   ]
  },
  {
   "cell_type": "code",
   "execution_count": null,
   "metadata": {
    "collapsed": true,
    "deletable": false,
    "nbgrader": {
     "checksum": "3f753d8643929b437d5ce21de6e4a0d1",
     "grade": true,
     "grade_id": "cell-db24e60b267de5e9",
     "locked": false,
     "points": 1,
     "schema_version": 1,
     "solution": true
    }
   },
   "outputs": [],
   "source": [
    "# YOUR CODE HERE\n",
    "raise NotImplementedError()"
   ]
  },
  {
   "cell_type": "markdown",
   "metadata": {},
   "source": [
    "#### 3) Write a Python program to replace 'e' with '3' and 'o' with '0' in a string. "
   ]
  },
  {
   "cell_type": "code",
   "execution_count": null,
   "metadata": {
    "collapsed": true,
    "deletable": false,
    "nbgrader": {
     "checksum": "edfbc9609ed794a2dc2eb2e3bc1511f6",
     "grade": true,
     "grade_id": "cell-d3208b6a2dd572f1",
     "locked": false,
     "points": 1,
     "schema_version": 1,
     "solution": true
    }
   },
   "outputs": [],
   "source": [
    "# YOUR CODE HERE\n",
    "raise NotImplementedError()"
   ]
  },
  {
   "cell_type": "markdown",
   "metadata": {},
   "source": [
    "#### 4)  Write a Python program to convert height (in feet and inches) to centimeters.\n",
    "\n",
    "##### Note: Round off the height in cms to the nearest integer."
   ]
  },
  {
   "cell_type": "code",
   "execution_count": null,
   "metadata": {
    "collapsed": true,
    "deletable": false,
    "nbgrader": {
     "checksum": "d2a431676fa48047bf2b76ac5c320dab",
     "grade": true,
     "grade_id": "cell-7a25da8b9d9a2b1f",
     "locked": false,
     "points": 1,
     "schema_version": 1,
     "solution": true
    }
   },
   "outputs": [],
   "source": [
    "# YOUR CODE HERE\n",
    "raise NotImplementedError()"
   ]
  },
  {
   "cell_type": "markdown",
   "metadata": {},
   "source": [
    "#### 5) Write a python program to replace your last name with your favorite colour. \n",
    "##### Note: Enter your Fullname (First name and last name seperated with a space) into a variable and the color as a User Input into another variable. Use string indexing to replace your last name with your favorite colour."
   ]
  },
  {
   "cell_type": "code",
   "execution_count": null,
   "metadata": {
    "collapsed": true,
    "deletable": false,
    "nbgrader": {
     "checksum": "5fdbb88217e2b8c78f3404a0f9458371",
     "grade": true,
     "grade_id": "cell-15503df450eaa08c",
     "locked": false,
     "points": 1,
     "schema_version": 1,
     "solution": true
    }
   },
   "outputs": [],
   "source": [
    "# YOUR CODE HERE\n",
    "raise NotImplementedError()"
   ]
  },
  {
   "cell_type": "markdown",
   "metadata": {},
   "source": [
    "#### 6) Write a Python program to input Name, School and Major in 3 variables and print them out using a single variable with each piece of information on a new line. \n",
    "##### Note: Enter all the three information into seperate variables. Use String Concatenation and read about new line in Python to write this program. "
   ]
  },
  {
   "cell_type": "code",
   "execution_count": null,
   "metadata": {
    "collapsed": true,
    "deletable": false,
    "nbgrader": {
     "checksum": "9b9ea65d174aec72258884f57f98ba32",
     "grade": true,
     "grade_id": "cell-394fd53808330f45",
     "locked": false,
     "points": 1,
     "schema_version": 1,
     "solution": true
    }
   },
   "outputs": [],
   "source": [
    "# YOUR CODE HERE\n",
    "raise NotImplementedError()"
   ]
  },
  {
   "cell_type": "markdown",
   "metadata": {},
   "source": [
    "#### 7) Write a python program and perfom the following actions using arrays.\n",
    "\n",
    "##### 1. Create an integer array.\n",
    "##### 2. Append 3 random integers into the array and print the array. \n",
    "##### 3. Insert 3 random integers into the array and print the array. \n",
    "##### 4. Remove any 2 integers and print the array. "
   ]
  },
  {
   "cell_type": "code",
   "execution_count": null,
   "metadata": {
    "collapsed": true,
    "deletable": false,
    "nbgrader": {
     "checksum": "1a14cd595e445988b40eec7a3f505e45",
     "grade": true,
     "grade_id": "cell-b3ca0e94b93b62c9",
     "locked": false,
     "points": 1,
     "schema_version": 1,
     "solution": true
    }
   },
   "outputs": [],
   "source": [
    "# YOUR CODE HERE\n",
    "raise NotImplementedError()"
   ]
  },
  {
   "cell_type": "markdown",
   "metadata": {},
   "source": [
    "#### 8) Write a Program to convert any temperature from Fahrenheit to Celcius. \n",
    "##### Note: Look up how to convert Celsius to Fahrenheit and use the formula to write a program. Use input from user."
   ]
  },
  {
   "cell_type": "code",
   "execution_count": null,
   "metadata": {
    "collapsed": true,
    "deletable": false,
    "nbgrader": {
     "checksum": "cc5dd01a6e2698b4b251842cd1607edc",
     "grade": true,
     "grade_id": "cell-6a9c703c8f8a2f20",
     "locked": false,
     "points": 1,
     "schema_version": 1,
     "solution": true
    }
   },
   "outputs": [],
   "source": [
    "# YOUR CODE HERE\n",
    "raise NotImplementedError()"
   ]
  },
  {
   "cell_type": "markdown",
   "metadata": {},
   "source": [
    "#### 9) You want to make a list of the largest or smallest N items in a collection.\n",
    "##### Note: you may use heap queue algorithm (import heapq) if desired. "
   ]
  },
  {
   "cell_type": "code",
   "execution_count": null,
   "metadata": {
    "collapsed": true,
    "deletable": false,
    "nbgrader": {
     "checksum": "6b3c486dbe221d755fccfbcd9b8d4214",
     "grade": true,
     "grade_id": "cell-9f0c96cad935c366",
     "locked": false,
     "points": 1,
     "schema_version": 1,
     "solution": true
    }
   },
   "outputs": [],
   "source": [
    "# YOUR CODE HERE\n",
    "raise NotImplementedError()"
   ]
  },
  {
   "cell_type": "markdown",
   "metadata": {},
   "source": [
    "#### 10) Write a Python program to encrypt any 5 letter string into an ASCII Cypher. \n",
    "##### Note: # Use User Input for the 5 letter string. Cipher is a secret or disguised way of writing. Look up Ascii Table and use the ASCII ordinal function for this program.\n"
   ]
  },
  {
   "cell_type": "code",
   "execution_count": null,
   "metadata": {
    "collapsed": true,
    "deletable": false,
    "nbgrader": {
     "checksum": "ecd5259e994d0d3f45f11ac91a451bf8",
     "grade": true,
     "grade_id": "cell-ff8470f197c1e123",
     "locked": false,
     "points": 1,
     "schema_version": 1,
     "solution": true
    }
   },
   "outputs": [],
   "source": [
    "# YOUR CODE HERE\n",
    "raise NotImplementedError()"
   ]
  },
  {
   "cell_type": "code",
   "execution_count": null,
   "metadata": {
    "collapsed": true
   },
   "outputs": [],
   "source": []
  },
  {
   "cell_type": "code",
   "execution_count": null,
   "metadata": {
    "collapsed": true
   },
   "outputs": [],
   "source": []
  }
 ],
 "metadata": {
  "kernelspec": {
   "display_name": "Python 3",
   "language": "python",
   "name": "python3"
  },
  "language_info": {
   "codemirror_mode": {
    "name": "ipython",
    "version": 3
   },
   "file_extension": ".py",
   "mimetype": "text/x-python",
   "name": "python",
   "nbconvert_exporter": "python",
   "pygments_lexer": "ipython3",
   "version": "3.6.2"
  }
 },
 "nbformat": 4,
 "nbformat_minor": 2
}
